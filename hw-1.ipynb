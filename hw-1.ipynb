{
 "cells": [
  {
   "cell_type": "markdown",
   "metadata": {},
   "source": [
    "# Reading and Writing Electronic Text\n",
    "Spring 2024\n",
    "\n",
    "***\n",
    "\n",
    "## Assignment 1\n",
    "\n",
    "Myrah Sarwar\n",
    "\n"
   ]
  },
  {
   "cell_type": "markdown",
   "metadata": {},
   "source": [
    "_Adapted from **A House of Dust** poem generator._"
   ]
  },
  {
   "cell_type": "code",
   "execution_count": 15,
   "metadata": {},
   "outputs": [],
   "source": [
    "import random"
   ]
  },
  {
   "cell_type": "code",
   "execution_count": 16,
   "metadata": {},
   "outputs": [],
   "source": [
    "occupation = [\n",
    "    'An architect',\n",
    "    'A college student',\n",
    "    'A teacher',\n",
    "    'A barista',\n",
    "    'A plumber',\n",
    "    'An astrophysicist',\n",
    "    'A neurologist',\n",
    "    'An accountant',\n",
    "    'A farmer',\n",
    "    'A social media influencer',\n",
    "    'A software engineer',\n",
    "    'A painter',\n",
    "    'A figure skater',\n",
    "    'A therapist',\n",
    "    'An actress',\n",
    "    'A chef',\n",
    "    'A personal trainer'\n",
    "]"
   ]
  },
  {
   "cell_type": "code",
   "execution_count": 21,
   "metadata": {},
   "outputs": [],
   "source": [
    "feeling1 = [\n",
    "    'sorrow',\n",
    "    'heartache',\n",
    "    'misery',\n",
    "    'agony',\n",
    "    'dejected',\n",
    "    'determined',\n",
    "    'enthusiastic',\n",
    "    'invigorated',\n",
    "    'lively',\n",
    "    'daring',\n",
    "    'isolated',\n",
    "    'compassion',\n",
    "    'apprehensive',\n",
    "    'irritated',\n",
    "    'eager',\n",
    "    'overwhelmed',\n",
    "    'feisty',\n",
    "    'grateful',\n",
    "    'fulfilled',\n",
    "    'distracted'\n",
    "]"
   ]
  },
  {
   "cell_type": "code",
   "execution_count": 22,
   "metadata": {},
   "outputs": [],
   "source": [
    "feeling2 = [\n",
    "    'pain',\n",
    "    'regret',\n",
    "    'helpless',\n",
    "    'optimistic',\n",
    "    'aloof',\n",
    "    'pensive',\n",
    "    'mortified',\n",
    "    'outraged',\n",
    "    'serene',\n",
    "    'grief',\n",
    "    'ecstatic',\n",
    "    'disturbed',\n",
    "    'hostile',\n",
    "    'trapped',\n",
    "    'panicked',\n",
    "    'thrilled',\n",
    "    'pathetic',\n",
    "    'edgy',\n",
    "    'perplexed',\n",
    "    'nostalgic'\n",
    "]"
   ]
  },
  {
   "cell_type": "code",
   "execution_count": 23,
   "metadata": {},
   "outputs": [],
   "source": [
    "action = [\n",
    "    'cooking a warm meal',\n",
    "    'reading a long book',\n",
    "    'watering houseplants',\n",
    "    'going grocery shopping',\n",
    "    'going on a walk',\n",
    "    'driving home',\n",
    "    'cleaning the bathroom',\n",
    "    'watching a movie',\n",
    "    'going to sleep',\n",
    "    'waking up in the morning',\n",
    "    'calling their family',\n",
    "    'doing laundry',\n",
    "    'running on a treadmill',\n",
    "    'buying some coffee',\n",
    "    'taking a shower'\n",
    "]"
   ]
  },
  {
   "cell_type": "code",
   "execution_count": 44,
   "metadata": {
    "scrolled": false
   },
   "outputs": [
    {
     "name": "stdout",
     "output_type": "stream",
     "text": [
      "\n",
      "A barista\n",
      "      feeling daring\n",
      "          feeling optimistic\n",
      "                going on a walk\n",
      "\n",
      "An actress\n",
      "      feeling overwhelmed\n",
      "          feeling trapped\n",
      "                watering houseplants\n",
      "\n",
      "A neurologist\n",
      "      feeling enthusiastic\n",
      "          feeling helpless\n",
      "                waking up in the morning\n",
      "\n",
      "A software engineer\n",
      "      feeling heartache\n",
      "          feeling panicked\n",
      "                running on a treadmill\n"
     ]
    }
   ],
   "source": [
    "stanza_count = 4\n",
    "for i in range(stanza_count):\n",
    "    print()\n",
    "    print(random.choice(occupation))\n",
    "    print(\"      feeling \" + random.choice(feeling1))\n",
    "    print(\"          feeling \" + random.choice(feeling2))\n",
    "    print(\"                \" + random.choice(action))"
   ]
  }
 ],
 "metadata": {
  "kernelspec": {
   "display_name": "Python 3 (ipykernel)",
   "language": "python",
   "name": "python3"
  },
  "language_info": {
   "codemirror_mode": {
    "name": "ipython",
    "version": 3
   },
   "file_extension": ".py",
   "mimetype": "text/x-python",
   "name": "python",
   "nbconvert_exporter": "python",
   "pygments_lexer": "ipython3",
   "version": "3.11.5"
  }
 },
 "nbformat": 4,
 "nbformat_minor": 2
}
