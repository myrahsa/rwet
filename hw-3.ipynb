{
 "cells": [
  {
   "cell_type": "markdown",
   "id": "949dfcc9",
   "metadata": {},
   "source": [
    "# Reading and Writing Electronic Text\n",
    "Spring 2024\n",
    "\n",
    "Myrah Sarwar\n",
    "\n",
    "***\n",
    "\n",
    "## Assignment 3\n",
    "### Genre study: fairytale generator"
   ]
  },
  {
   "cell_type": "markdown",
   "id": "3fa9d9f8",
   "metadata": {},
   "source": [
    "#### Text references:\n",
    "* _The Story of Aladdin_\n",
    "* _Little Red Riding Hood_\n",
    "* _Snow White and the Seven Dwarfs_\n",
    "* _The Little Mermaid_\n",
    "* _Hansel and Gretel_\n",
    "* _Rapunzel_\n",
    "* _Cinderella_\n",
    "* _Beauty and the Beast_\n",
    "* _The Ugly Duckling_\n",
    "* _Goldilocks and the Three Bears_\n",
    "* _The Little Prince_\n",
    "\n",
    "***"
   ]
  },
  {
   "cell_type": "markdown",
   "id": "92a4350b",
   "metadata": {},
   "source": [
    "Import tracery library: "
   ]
  },
  {
   "cell_type": "code",
   "execution_count": 191,
   "id": "5eb77de3",
   "metadata": {},
   "outputs": [],
   "source": [
    "import tracery"
   ]
  },
  {
   "cell_type": "code",
   "execution_count": 192,
   "id": "aff58c40",
   "metadata": {},
   "outputs": [],
   "source": [
    "from tracery.modifiers import base_english"
   ]
  },
  {
   "cell_type": "markdown",
   "id": "05f3b8d2",
   "metadata": {},
   "source": [
    "Set up grammar:"
   ]
  },
  {
   "cell_type": "code",
   "execution_count": 193,
   "id": "53f375ec",
   "metadata": {},
   "outputs": [],
   "source": [
    "rules = {\n",
    "    \"time_intro\": [\"Once\", \n",
    "                   \"Once upon a time\", \n",
    "                   \"Long, long ago\", \n",
    "                   \"A great while ago\", \n",
    "                   \"Before the beginning of time\",\n",
    "                   \"In ancient times\", \n",
    "                   \"In the olden times\", \n",
    "                   \"Many years ago\"],\n",
    "    \"setting\": [\"in one of the largest and richest cities\", \n",
    "                \"out in the woods\",\n",
    "                \"far out in the ocean\",\n",
    "                \"among the most marvelous trees and flowers\",\n",
    "                \"outside a palace with a big garden\",\n",
    "                \"during a lovely summer weather in the country\",\n",
    "                \"in a sunny spot\",\n",
    "                \"in a pleasant old farm-house close by a deep river\",\n",
    "                \"where the weather was delightful\",\n",
    "                \"where the sun shone brightly\",\n",
    "                \"in a very far-off country\",\n",
    "                \"near the borders of a large forest\",\n",
    "                \"in the middle of winter\",\n",
    "                \"far, far away\"],\n",
    "    \"char_intro\": [\"there was\",\n",
    "                  \"there lived\"],\n",
    "    \"character\": [\"tailor\",\n",
    "                  \"dear little girl\",\n",
    "                  \"giant and his wife\",\n",
    "                  \"young girl\",\n",
    "                  \"gentleman\",\n",
    "                  \"trio of bears\",\n",
    "                  \"duck\",\n",
    "                  \"merchant\",\n",
    "                  \"man and his wife\",\n",
    "                  \"boy and his sister\"],\n",
    "    \"char_desc\": [\"very poor\",\n",
    "                  \"loved by every one\",\n",
    "                  \"very sad\",\n",
    "                  \"as pretty as the sun setting in the sky\",\n",
    "                  \"as kind as a mother’s kiss\",\n",
    "                  \"the hardest worker\",\n",
    "                  \"an altogether praiseworthy person\",\n",
    "                  \"of unparalleled goodness and sweetness of temper\",\n",
    "                  \"not at all well-brought-up\",\n",
    "                  \"beginning to get tired of their tasks\",\n",
    "                  \"so fortunate to be enormously rich\",\n",
    "                  \"as sad as anyone when misfortune took over\",\n",
    "                  \"beginning to get used to their new life\",\n",
    "                  \"long wishing for a child\",\n",
    "                  \"living upon very little\",\n",
    "                  \"unable to earn sufficient to supply their daily food\"],\n",
    "    \"family\" : [\"consisted only of a spouse and a son\",\n",
    "                \"was mostly their grandmother\",\n",
    "                \"was but a very mean stepmother\",\n",
    "                \"was two stepsisters who made their life miserable\",\n",
    "                \"was their six sons and six daughters\",\n",
    "                \"was only their mother who died\"],\n",
    "    \"transition\": [\"one day\",\n",
    "                   \"on the next day\",\n",
    "                   \"in the night\",\n",
    "                   \"at home\",\n",
    "                   \"in the morning\",\n",
    "                   \"but one day\"],\n",
    "    \"adjectives\": [\"careless\",\n",
    "                   \"idle\",\n",
    "                   \"disobedient\",\n",
    "                   \"incorrigible\",\n",
    "                   \"weak\",\n",
    "                   \"poor\",\n",
    "                   \"marvelous\",\n",
    "                   \"frightened\",\n",
    "                   \"discouraged\",\n",
    "                   \"wonderful\",\n",
    "                   \"proudest\",\n",
    "                   \"clever\"],\n",
    "    \"adverbs\": [\"intensely\",\n",
    "                \"adventurously\",\n",
    "                \"bravely\",\n",
    "                \"tenderly\",\n",
    "                \"optimistically\",\n",
    "                \"carelessly\",\n",
    "                \"cheerfully\",\n",
    "                \"thoughtfully\",\n",
    "                \"politely\",\n",
    "                \"wonderfully\",\n",
    "                \"innocently\",\n",
    "                \"briefly\"],\n",
    "    \"action\": [\"could hardly maintain themself and their family\",\n",
    "               \"went to the market\",\n",
    "               \"went out early in the morning and stayed out all day\",\n",
    "               \"played in the streets\",\n",
    "               \"went to sleep without dinner\",\n",
    "               \"met a man who wanted to buy their cow\",\n",
    "               \"woke up in the morning\",\n",
    "               \"looked out of the window\",\n",
    "               \"fell and died\",\n",
    "               \"spent all day cleaning and ironing\",\n",
    "               \"spent the evening alone in front of the warm fire\",\n",
    "               \"made their stepmother and stepsisters breakfast\",\n",
    "               \"woke up early\",\n",
    "               \"scoured the dishes\",\n",
    "               \"walked out into the wood\",\n",
    "               \"ventured to such a distance\",\n",
    "               \"had a most unexpected misfortune befall them\",\n",
    "               \"were standing at the window\",\n",
    "               \"looked into the garden\",\n",
    "               \"wept bitter tears\",\n",
    "               \"got up and put on their little coat\",\n",
    "               \"slept till the day broke\",\n",
    "               \"sat at their palace window\"],\n",
    "    \"end\": [\"and they lived happily ever after\",\n",
    "           \"and so the story goes\",\n",
    "           \"and they lived a long and happy life\",\n",
    "           \"and in the end, they died\"]\n",
    "}"
   ]
  },
  {
   "cell_type": "markdown",
   "id": "55323041",
   "metadata": {},
   "source": [
    "Create generator with modifiers + separate variables by section (beginning, middle, end):\n",
    "\n",
    "**Note:** I opted for this approach for now (although lengthy and still has errors) instead of putting everything in *rules* because I wanted the \"character\" to be consistent throughout."
   ]
  },
  {
   "cell_type": "code",
   "execution_count": 224,
   "id": "87c8cacb",
   "metadata": {},
   "outputs": [
    {
     "name": "stdout",
     "output_type": "stream",
     "text": [
      "BEFORE THE BEGINNING OF TIME,\n",
      "\n",
      "far, far away, \n",
      "there lived a man and his wife.\n",
      "\n",
      "They were as sad as anyone when misfortune took over, and their family was their six sons and six daughters. But one day, the careless and incorrigible man and his wife cheerfully went to sleep without dinner. Politely and adventurously, they got up and put on their little coat,\n",
      "\n",
      "and so the story goes.\n"
     ]
    }
   ],
   "source": [
    "import random\n",
    "\n",
    "grammar = tracery.Grammar(rules)\n",
    "grammar.add_modifiers(base_english)\n",
    "\n",
    "char_choice = grammar.flatten(\"#character#\")\n",
    "middle_2_options = [\n",
    "    f\"{grammar.flatten('#transition.capitalize#')}, the {grammar.flatten('#adjectives#')} and {grammar.flatten('#adjectives#')} {char_choice} {grammar.flatten('#adverbs#')} {grammar.flatten('#action#')}.\",\n",
    "    f\"The {grammar.flatten('#adjectives#')} and {grammar.flatten('#adjectives#')} {char_choice} {grammar.flatten('#adverbs#')} {grammar.flatten('#action#')} {grammar.flatten('#setting#')}.\",\n",
    "    f\"{grammar.flatten('#adjectives.capitalize#')} and {grammar.flatten('#adjectives#')}, the {char_choice} {grammar.flatten('#transition#')} {grammar.flatten('#adverbs#')} {grammar.flatten('#action#')}.\",\n",
    "    f\"The {char_choice} {grammar.flatten('#adverbs#')} {grammar.flatten('#action#')} and {grammar.flatten('#action#')}, as {grammar.flatten('#adjectives#')} as ever.\",   \n",
    "]\n",
    "\n",
    "opening = f\"{grammar.flatten('#time_intro#')},\"\n",
    "intro = f\"{grammar.flatten('#setting#')}, \\n{grammar.flatten('#char_intro#')} a {char_choice}.\"\n",
    "middle_1 = f\"They were {grammar.flatten('#char_desc#')}, and their family {grammar.flatten('#family#')}. \"                 \n",
    "middle_2 = random.choice(middle_2_options)\n",
    "middle_3 = f\" {grammar.flatten('#adverbs.capitalize#')} and {grammar.flatten('#adverbs#')}, they {grammar.flatten('#action#')},\"\n",
    "end = f\"{grammar.flatten('#end#')}.\"\n",
    "\n",
    "print(opening.upper() + \"\\n\\n\" + intro + \"\\n\\n\" + middle_1 + middle_2 + middle_3 + \"\\n\\n\" + end)"
   ]
  }
 ],
 "metadata": {
  "kernelspec": {
   "display_name": "Python 3 (ipykernel)",
   "language": "python",
   "name": "python3"
  },
  "language_info": {
   "codemirror_mode": {
    "name": "ipython",
    "version": 3
   },
   "file_extension": ".py",
   "mimetype": "text/x-python",
   "name": "python",
   "nbconvert_exporter": "python",
   "pygments_lexer": "ipython3",
   "version": "3.11.5"
  }
 },
 "nbformat": 4,
 "nbformat_minor": 5
}
