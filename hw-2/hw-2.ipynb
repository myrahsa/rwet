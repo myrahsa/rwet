{
 "cells": [
  {
   "cell_type": "markdown",
   "id": "dbfc555e",
   "metadata": {},
   "source": [
    "# Reading and Writing Electronic Text\n",
    "Spring 2024\n",
    "\n",
    "Myrah Sarwar\n",
    "\n",
    "***\n",
    "\n",
    "## Assignment 2\n",
    "#### [Link to blog post](https://myrahsarwar.com/_rwet_a2)"
   ]
  },
  {
   "cell_type": "markdown",
   "id": "cd479d6b",
   "metadata": {},
   "source": [
    "#### Text sources:\n",
    "- _Man’s Search for Meaning_, Victor Frankl\n",
    "- _Sense of Nonsense_ audio transcript, Alan Watts\n",
    "- _The Hitchhiker's Guide to the Galaxy_, Douglas Adams"
   ]
  },
  {
   "cell_type": "markdown",
   "id": "8980a6ed",
   "metadata": {},
   "source": [
    "Load text files:"
   ]
  },
  {
   "cell_type": "code",
   "execution_count": 415,
   "id": "2bdedfed",
   "metadata": {},
   "outputs": [],
   "source": [
    "frankl = open(\"frankl.txt\").read()\n",
    "watts = open(\"watts1.txt\").read()\n",
    "hitchhiker = open(\"hitchhiker.txt\").read()"
   ]
  },
  {
   "cell_type": "markdown",
   "id": "12f0ee5f",
   "metadata": {},
   "source": [
    "Split them and convert to lists:"
   ]
  },
  {
   "cell_type": "code",
   "execution_count": 416,
   "id": "4f8f55fc",
   "metadata": {},
   "outputs": [
    {
     "data": {
      "text/plain": [
       "['By declaring that man is responsible and must actualize the potential meaning of his life',\n",
       " ' I wish to stress that the true meaning of life is to be discovered in the world rather than within man or his own psyche',\n",
       " ' as though it were a closed system',\n",
       " ' I have termed this constitutive characteristic ',\n",
       " 'the self-transcendence of human existence',\n",
       " '',\n",
       " ' It denotes the fact that being human always points',\n",
       " ' and is directed',\n",
       " ' to something or someone',\n",
       " ' other than oneself--be it a meaning to fulfill or another human being to encounter',\n",
       " ' The more one forgets himself--by giving himself to a cause to serve or another person to love--the more human he is and the more he actualizes himself',\n",
       " ' What is called self-actualization is not an attainable aim at all',\n",
       " ' for the simple reason that the more one would strive for it',\n",
       " ' the more he would miss it',\n",
       " ' In other words',\n",
       " ' self-actualization is possible only as a side-effect of self-transcendence']"
      ]
     },
     "execution_count": 416,
     "metadata": {},
     "output_type": "execute_result"
    }
   ],
   "source": [
    "import re\n",
    "\n",
    "franklList = re.split('[,.\"\\\"\"]',frankl)[:-1]\n",
    "franklList"
   ]
  },
  {
   "cell_type": "code",
   "execution_count": 417,
   "id": "5428c95e",
   "metadata": {},
   "outputs": [
    {
     "data": {
      "text/plain": [
       "['But it seems that only in moments of unusual insight and illumination that we get the point of this',\n",
       " ' and find that thus the true meaning of life is no meaning',\n",
       " ' that its purpose is no purpose and that its sense is nonsense',\n",
       " ' Still we want to use about it the word significant',\n",
       " ' Significant nonsense? Yes',\n",
       " ' nonsense',\n",
       " ' that is not just chaos',\n",
       " ' that is not just blathering balderdash',\n",
       " ' but that has in it rhythm',\n",
       " ' fascinating complexity',\n",
       " ' a kind of artistry',\n",
       " ' It is in this kind of meaninglessness that we get the profoundest meaning']"
      ]
     },
     "execution_count": 417,
     "metadata": {},
     "output_type": "execute_result"
    }
   ],
   "source": [
    "wattsList = re.split('[,.]',watts)[:-1]\n",
    "wattsList"
   ]
  },
  {
   "cell_type": "code",
   "execution_count": 418,
   "id": "17519510",
   "metadata": {
    "scrolled": true
   },
   "outputs": [
    {
     "data": {
      "text/plain": [
       "['This planet has ',\n",
       " ' or rather had ',\n",
       " ' a problem',\n",
       " ' which was this',\n",
       " ' most of the people living on it were unhappy for pretty much of the time',\n",
       " ' Many solutions were suggested for this problem',\n",
       " ' but most of these were largely concerned with the movement of small green pieces of paper',\n",
       " \" which was odd because on the whole it wasn't the small green pieces of paper that were unhappy\"]"
      ]
     },
     "execution_count": 418,
     "metadata": {},
     "output_type": "execute_result"
    }
   ],
   "source": [
    "hitchhikerList = re.split('[,.:-]',hitchhiker)[:-1]\n",
    "hitchhikerList"
   ]
  },
  {
   "cell_type": "markdown",
   "id": "25f0611a",
   "metadata": {},
   "source": [
    "**Test 1:** \n",
    "Creates 3 sections of 3 lines and randomly choose which text source should make up both halves of each line. The first 3 words are from one text source and the rest are from another."
   ]
  },
  {
   "cell_type": "code",
   "execution_count": 440,
   "id": "a30866f9",
   "metadata": {},
   "outputs": [
    {
     "name": "stdout",
     "output_type": "stream",
     "text": [
      "which was odd in other words\n",
      "but that has planet has\n",
      "many solutions were a kind of artistry\n",
      "\n",
      "but that has this\n",
      "that its purpose chaos\n",
      "that its purpose human existence\n",
      "\n",
      "which was this it denotes the fact that being human always points\n",
      "it is in that being human always points\n",
      "it is in problem\n",
      "\n"
     ]
    }
   ],
   "source": [
    "import random\n",
    "\n",
    "line_count = 3\n",
    "section_count = 3\n",
    "\n",
    "for repeat in range(section_count):\n",
    "    for repeat in range(line_count):\n",
    "\n",
    "        beginningSelector = random.randrange(3)\n",
    "\n",
    "        if beginningSelector == 0:\n",
    "            beginningText = franklList\n",
    "        elif beginningSelector == 1:\n",
    "            beginningText = wattsList\n",
    "        else:\n",
    "            beginningText = hitchhikerList\n",
    "\n",
    "        beginningText\n",
    "        \n",
    "        middleSelector = random.randrange(3)\n",
    "\n",
    "        if middleSelector == 0:\n",
    "            middleText = franklList\n",
    "        elif middleSelector == 1:\n",
    "            middleText = wattsList\n",
    "        else:\n",
    "            middleText = hitchhikerList\n",
    "\n",
    "        middleText\n",
    "\n",
    "        endSelector = random.randrange(3)\n",
    "\n",
    "        if endSelector == 0:\n",
    "            endText = franklList\n",
    "        elif endSelector == 1:\n",
    "            endText = wattsList\n",
    "        else:\n",
    "            endText = hitchhikerList\n",
    "\n",
    "        endText\n",
    "\n",
    "        beginningWords = random.choice(beginningText).lower()\n",
    "        beginningSplit = beginningWords.split()\n",
    "        beginningFinal = \" \".join((beginningSplit)[:3])\n",
    "        \n",
    "        middleWords = random.choice(middleText).lower()\n",
    "        middleSplit = middleWords.split()\n",
    "        middleFinal = \" \".join((middleSplit)[:3])\n",
    "\n",
    "        endWords = random.choice(endText).lower()\n",
    "        endSplit = endWords.split()\n",
    "        endSplitLen = len(endSplit)\n",
    "        endSplitRan = random.randrange(endSplitLen)\n",
    "        endFinal = \" \".join((endSplit)[(endSplitRan):])\n",
    "\n",
    "#         print(endSplitRan)\n",
    "        print(beginningFinal + \" \" + endFinal)\n",
    "    print()"
   ]
  },
  {
   "cell_type": "markdown",
   "id": "7c58ce17",
   "metadata": {},
   "source": [
    "**Test 2:** \n",
    "Alternate approach by shuffling all the words before piecing them back together."
   ]
  },
  {
   "cell_type": "code",
   "execution_count": 441,
   "id": "a408101c",
   "metadata": {
    "scrolled": true
   },
   "outputs": [
    {
     "name": "stdout",
     "output_type": "stream",
     "text": [
      "for the simple that balderdash is not just\n",
      "as though it of the unusual point moments we insight illumination get only of this in and that that\n",
      "self-actualization is possible this\n",
      "\n",
      "but that has complexity fascinating\n",
      "but most of blathering just not that balderdash is\n",
      "self-actualization is possible complexity fascinating\n",
      "\n",
      "many solutions were a\n",
      "a problem of it get that is profoundest meaninglessness kind in we meaning\n",
      "and is directed nonsense\n",
      "\n"
     ]
    }
   ],
   "source": [
    "import random\n",
    "\n",
    "line_count = 3\n",
    "section_count = 3\n",
    "\n",
    "for repeat in range(section_count):\n",
    "    for repeat in range(line_count):\n",
    "\n",
    "        beginningSelector = random.randrange(3)\n",
    "\n",
    "        if beginningSelector == 0:\n",
    "            beginningText = franklList\n",
    "        elif beginningSelector == 1:\n",
    "            beginningText = wattsList\n",
    "        else:\n",
    "            beginningText = hitchhikerList\n",
    "\n",
    "        beginningText\n",
    "\n",
    "        endSelector = random.randrange(3)\n",
    "\n",
    "        if endSelector == 0:\n",
    "            endText = franklList\n",
    "        elif endSelector == 1:\n",
    "            endText = wattsList\n",
    "        else:\n",
    "            endText = hitchhikerList\n",
    "\n",
    "        endText\n",
    "\n",
    "        beginningWords = random.choice(beginningText).lower()\n",
    "        beginningSplit = beginningWords.split()\n",
    "        beginningFinal = \" \".join((beginningSplit)[:3])\n",
    "\n",
    "        endWords = random.choice(endText).lower()\n",
    "        endSplit = endWords.split()\n",
    "        random.shuffle(endSplit)\n",
    "        endSplitLen = len(endSplit)\n",
    "        endSplitRan = random.randrange(endSplitLen)\n",
    "        endFinal = \" \".join((endSplit)[(endSplitRan):])\n",
    "\n",
    "        print(beginningFinal + \" \" + endFinal)\n",
    "    print()"
   ]
  },
  {
   "cell_type": "markdown",
   "id": "96991ab0",
   "metadata": {},
   "source": [
    "**Test 3:** \n",
    "Sentences are made up of three parts instead of two like the above experiments."
   ]
  },
  {
   "cell_type": "code",
   "execution_count": 446,
   "id": "76b0fc1c",
   "metadata": {},
   "outputs": [
    {
     "name": "stdout",
     "output_type": "stream",
     "text": [
      "that is not this constitutive characteristic\n",
      "which was this side-effect of self-transcendence\n",
      "but that has of his life\n",
      "\n",
      "that is not sense is nonsense\n",
      "but it seems the word significant\n",
      "what is called pieces of paper\n",
      "\n",
      "which was this that were unhappy\n",
      "this planet has this planet has\n",
      "what is called this planet has\n",
      "\n"
     ]
    }
   ],
   "source": [
    "import random\n",
    "\n",
    "line_count = 3\n",
    "section_count = 3\n",
    "\n",
    "for repeat in range(section_count):\n",
    "    for repeat in range(line_count):\n",
    "\n",
    "        beginningSelector = random.randrange(3)\n",
    "\n",
    "        if beginningSelector == 0:\n",
    "            beginningText = franklList\n",
    "        elif beginningSelector == 1:\n",
    "            beginningText = wattsList\n",
    "        else:\n",
    "            beginningText = hitchhikerList\n",
    "\n",
    "        beginningText\n",
    "        \n",
    "        middleSelector = random.randrange(3)\n",
    "\n",
    "        if middleSelector == 0:\n",
    "            middleText = franklList\n",
    "        elif middleSelector == 1:\n",
    "            middleText = wattsList\n",
    "        else:\n",
    "            middleText = hitchhikerList\n",
    "\n",
    "        middleText\n",
    "\n",
    "        endSelector = random.randrange(3)\n",
    "\n",
    "        if endSelector == 0:\n",
    "            endText = franklList\n",
    "        elif endSelector == 1:\n",
    "            endText = wattsList\n",
    "        else:\n",
    "            endText = hitchhikerList\n",
    "\n",
    "        endText\n",
    "\n",
    "        beginningWords = random.choice(beginningText).lower()\n",
    "        beginningSplit = beginningWords.split()\n",
    "        beginningFinal = \" \".join((beginningSplit)[:3])\n",
    "        \n",
    "        middleWords = random.choice(middleText).lower()\n",
    "        middleSplit = middleWords.split()\n",
    "        middleFinal = \" \".join((middleSplit)[3:-3])\n",
    "\n",
    "        endWords = random.choice(endText).lower()\n",
    "        endSplit = endWords.split()\n",
    "        endFinal = \" \".join((endSplit)[-3:])\n",
    "\n",
    "        print(beginningFinal + \" \" + endFinal)\n",
    "    print()"
   ]
  }
 ],
 "metadata": {
  "kernelspec": {
   "display_name": "Python 3 (ipykernel)",
   "language": "python",
   "name": "python3"
  },
  "language_info": {
   "codemirror_mode": {
    "name": "ipython",
    "version": 3
   },
   "file_extension": ".py",
   "mimetype": "text/x-python",
   "name": "python",
   "nbconvert_exporter": "python",
   "pygments_lexer": "ipython3",
   "version": "3.11.5"
  }
 },
 "nbformat": 4,
 "nbformat_minor": 5
}
